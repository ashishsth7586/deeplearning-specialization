{
 "cells": [
  {
   "cell_type": "markdown",
   "metadata": {
    "toc": "true"
   },
   "source": [
    "# Table of Contents\n",
    " <p><div class=\"lev1 toc-item\"><a href=\"#Neural-Networks-Overview\" data-toc-modified-id=\"Neural-Networks-Overview-1\"><span class=\"toc-item-num\">1&nbsp;&nbsp;</span>Neural Networks Overview</a></div><div class=\"lev1 toc-item\"><a href=\"#Neural-Network-Representation\" data-toc-modified-id=\"Neural-Network-Representation-2\"><span class=\"toc-item-num\">2&nbsp;&nbsp;</span>Neural Network Representation</a></div><div class=\"lev1 toc-item\"><a href=\"#Computing-a-Neural-Network's-Output\" data-toc-modified-id=\"Computing-a-Neural-Network's-Output-3\"><span class=\"toc-item-num\">3&nbsp;&nbsp;</span>Computing a Neural Network's Output</a></div><div class=\"lev1 toc-item\"><a href=\"#Vectorizing-across-multiple-examples\" data-toc-modified-id=\"Vectorizing-across-multiple-examples-4\"><span class=\"toc-item-num\">4&nbsp;&nbsp;</span>Vectorizing across multiple examples</a></div><div class=\"lev1 toc-item\"><a href=\"#Explanation-for-Vectorized-Implementation\" data-toc-modified-id=\"Explanation-for-Vectorized-Implementation-5\"><span class=\"toc-item-num\">5&nbsp;&nbsp;</span>Explanation for Vectorized Implementation</a></div><div class=\"lev1 toc-item\"><a href=\"#Activation-functions\" data-toc-modified-id=\"Activation-functions-6\"><span class=\"toc-item-num\">6&nbsp;&nbsp;</span>Activation functions</a></div><div class=\"lev1 toc-item\"><a href=\"#Why-do-you-need-non-linear-activation-functions?\" data-toc-modified-id=\"Why-do-you-need-non-linear-activation-functions?-7\"><span class=\"toc-item-num\">7&nbsp;&nbsp;</span>Why do you need non-linear activation functions?</a></div><div class=\"lev1 toc-item\"><a href=\"#Derivatives-of-activation-functions\" data-toc-modified-id=\"Derivatives-of-activation-functions-8\"><span class=\"toc-item-num\">8&nbsp;&nbsp;</span>Derivatives of activation functions</a></div><div class=\"lev2 toc-item\"><a href=\"#Sigmoid-activation-Function\" data-toc-modified-id=\"Sigmoid-activation-Function-81\"><span class=\"toc-item-num\">8.1&nbsp;&nbsp;</span>Sigmoid activation Function</a></div><div class=\"lev2 toc-item\"><a href=\"#Tanh-activation-Function\" data-toc-modified-id=\"Tanh-activation-Function-82\"><span class=\"toc-item-num\">8.2&nbsp;&nbsp;</span>Tanh activation Function</a></div><div class=\"lev2 toc-item\"><a href=\"#Relu-and-Leaky-Relu-activation-Functions\" data-toc-modified-id=\"Relu-and-Leaky-Relu-activation-Functions-83\"><span class=\"toc-item-num\">8.3&nbsp;&nbsp;</span>Relu and Leaky Relu activation Functions</a></div><div class=\"lev1 toc-item\"><a href=\"#Gradient-descent-for-Neural-Networks\" data-toc-modified-id=\"Gradient-descent-for-Neural-Networks-9\"><span class=\"toc-item-num\">9&nbsp;&nbsp;</span>Gradient descent for Neural Networks</a></div><div class=\"lev1 toc-item\"><a href=\"#Backpropagation-intuition\" data-toc-modified-id=\"Backpropagation-intuition-10\"><span class=\"toc-item-num\">10&nbsp;&nbsp;</span>Backpropagation intuition</a></div><div class=\"lev1 toc-item\"><a href=\"#Random-Initialization\" data-toc-modified-id=\"Random-Initialization-11\"><span class=\"toc-item-num\">11&nbsp;&nbsp;</span>Random Initialization</a></div>"
   ]
  },
  {
   "cell_type": "markdown",
   "metadata": {},
   "source": [
    "# Neural Networks Overview\n"
   ]
  },
  {
   "cell_type": "markdown",
   "metadata": {},
   "source": [
    "![](https://i.imgur.com/4yfM07L.png)"
   ]
  },
  {
   "cell_type": "markdown",
   "metadata": {},
   "source": [
    "# Neural Network Representation\n"
   ]
  },
  {
   "cell_type": "markdown",
   "metadata": {},
   "source": [
    "![](https://i.imgur.com/kyl6x26.png)"
   ]
  },
  {
   "cell_type": "markdown",
   "metadata": {},
   "source": [
    "# Computing a Neural Network's Output"
   ]
  },
  {
   "cell_type": "markdown",
   "metadata": {
    "collapsed": true
   },
   "source": [
    "![](https://i.imgur.com/wQlhl87.png)"
   ]
  },
  {
   "cell_type": "markdown",
   "metadata": {},
   "source": [
    "![](https://i.imgur.com/ihsKJ4Z.png)"
   ]
  },
  {
   "cell_type": "markdown",
   "metadata": {},
   "source": [
    "![](https://i.imgur.com/KAatjCr.png)"
   ]
  },
  {
   "cell_type": "markdown",
   "metadata": {},
   "source": [
    "# Vectorizing across multiple examples"
   ]
  },
  {
   "cell_type": "markdown",
   "metadata": {},
   "source": [
    "![](https://i.imgur.com/0iDEAN7.png)"
   ]
  },
  {
   "cell_type": "markdown",
   "metadata": {},
   "source": [
    "![](https://i.imgur.com/InoZItP.png)"
   ]
  },
  {
   "cell_type": "markdown",
   "metadata": {},
   "source": [
    "# Explanation for Vectorized Implementation"
   ]
  },
  {
   "cell_type": "markdown",
   "metadata": {},
   "source": [
    "![](https://i.imgur.com/JgIaS9c.png)"
   ]
  },
  {
   "cell_type": "markdown",
   "metadata": {},
   "source": [
    "![](https://i.imgur.com/xhgzY4B.png)"
   ]
  },
  {
   "cell_type": "markdown",
   "metadata": {},
   "source": [
    "# Activation functions"
   ]
  },
  {
   "cell_type": "markdown",
   "metadata": {},
   "source": [
    "![](https://i.imgur.com/aGQaUie.png)\n",
    "\n",
    "**some rules of thumb for choosing activation functions:**\n",
    "- if your output is 0 1 value if you're I'm using binary classification then the sigmoid activation function is very natural for the upper layer and then for all other units on varalu or the rectified linear unit is increasingly the default choice of activation function so if you're not sure what to use, I would just use the relu activation function that's what you see most people using these days although sometimes people also use the tannish activation function once this advantage of the value is that the derivative is equal to zero when V is negative in practice this works just fine but there is another version of the value called the least G value will give you.\n",
    "\n",
    "![](https://i.imgur.com/DDpGVCh.png)"
   ]
  },
  {
   "cell_type": "markdown",
   "metadata": {},
   "source": [
    "# Why do you need non-linear activation functions?"
   ]
  },
  {
   "cell_type": "markdown",
   "metadata": {},
   "source": [
    "![](https://i.imgur.com/fpn6NdA.png)"
   ]
  },
  {
   "cell_type": "markdown",
   "metadata": {},
   "source": [
    "# Derivatives of activation functions"
   ]
  },
  {
   "cell_type": "markdown",
   "metadata": {},
   "source": [
    "- when you implement back-propagation for your neural network you need to really compute the slope or the derivative of the activation functions. so\n",
    "    - let's take a look at our choices of activation functions and \n",
    "    - how you can compute the slope of these functions \n",
    "    "
   ]
  },
  {
   "cell_type": "markdown",
   "metadata": {},
   "source": [
    "## Sigmoid activation Function\n",
    "![](https://i.imgur.com/hnNpKAk.png)"
   ]
  },
  {
   "cell_type": "markdown",
   "metadata": {},
   "source": [
    "## Tanh activation Function\n",
    "![](https://i.imgur.com/6j7Q5FO.png)"
   ]
  },
  {
   "cell_type": "markdown",
   "metadata": {},
   "source": [
    "## Relu and Leaky Relu activation Functions\n",
    "![](https://i.imgur.com/Uuj8XzK.png)"
   ]
  },
  {
   "cell_type": "markdown",
   "metadata": {},
   "source": [
    "# Gradient descent for Neural Networks"
   ]
  },
  {
   "cell_type": "markdown",
   "metadata": {},
   "source": [
    "![](https://i.imgur.com/OI08zkX.png)\n",
    "\n",
    "![](https://i.imgur.com/GrayIZ0.png)"
   ]
  },
  {
   "cell_type": "markdown",
   "metadata": {},
   "source": [
    "# Backpropagation intuition"
   ]
  },
  {
   "cell_type": "markdown",
   "metadata": {},
   "source": [
    "![](https://i.imgur.com/7v0bsl8.png)\n",
    "![](https://i.imgur.com/5sRIZ0N.png)\n",
    "![](https://i.imgur.com/gJtMEjF.png)\n",
    "![](https://i.imgur.com/J4y00XB.png)"
   ]
  },
  {
   "cell_type": "markdown",
   "metadata": {},
   "source": [
    "# Random Initialization"
   ]
  },
  {
   "cell_type": "markdown",
   "metadata": {},
   "source": [
    "![](https://i.imgur.com/cxIjPvj.png)"
   ]
  },
  {
   "cell_type": "markdown",
   "metadata": {},
   "source": [
    "![](https://i.imgur.com/Y1GNtUj.png)"
   ]
  }
 ],
 "metadata": {
  "kernelspec": {
   "display_name": "Python 3",
   "language": "python",
   "name": "python3"
  },
  "language_info": {
   "codemirror_mode": {
    "name": "ipython",
    "version": 3
   },
   "file_extension": ".py",
   "mimetype": "text/x-python",
   "name": "python",
   "nbconvert_exporter": "python",
   "pygments_lexer": "ipython3",
   "version": "3.6.2"
  },
  "toc": {
   "colors": {
    "hover_highlight": "#DAA520",
    "navigate_num": "#000000",
    "navigate_text": "#333333",
    "running_highlight": "#FF0000",
    "selected_highlight": "#FFD700",
    "sidebar_border": "#EEEEEE",
    "wrapper_background": "#FFFFFF"
   },
   "moveMenuLeft": true,
   "nav_menu": {
    "height": "66px",
    "width": "252px"
   },
   "navigate_menu": true,
   "number_sections": true,
   "sideBar": true,
   "threshold": 4,
   "toc_cell": true,
   "toc_section_display": "block",
   "toc_window_display": false,
   "widenNotebook": false
  }
 },
 "nbformat": 4,
 "nbformat_minor": 2
}
